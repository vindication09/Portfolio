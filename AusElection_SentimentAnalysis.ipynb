{
 "cells": [
  {
   "cell_type": "markdown",
   "metadata": {},
   "source": [
    "### DATA 620\n",
    "#### FINAL PROJECT \n",
    "### [Video Presentation](https://www.youtube.com/watch?v=IGgwXAXYtkc)\n",
    "##### Group Four\n",
    "- Santosh Cheruku\n",
    "- Vinicio Haro\n",
    "- Javern Wilson\n",
    "- Saayed Alam  "
   ]
  },
  {
   "cell_type": "code",
   "execution_count": 81,
   "metadata": {},
   "outputs": [],
   "source": [
    "# data processing libraries\n",
    "import pandas as pd\n",
    "import numpy as np\n",
    "from collections import Counter\n",
    "\n",
    "# network analysis libraries\n",
    "import networkx as nx\n",
    "from networkx.algorithms import bipartite as bi\n",
    "\n",
    "# text processing libraries\n",
    "import nltk\n",
    "from nltk.corpus import stopwords\n",
    "from nltk.stem import WordNetLemmatizer\n",
    "from nltk import word_tokenize\n",
    "from nltk.sentiment.vader import SentimentIntensityAnalyzer as sia\n",
    "\n",
    "# visualization librarires\n",
    "from wordcloud import WordCloud\n",
    "import seaborn as sns\n",
    "import matplotlib.pyplot as plt\n",
    "from matplotlib import style\n",
    "% matplotlib inline\n",
    "\n",
    "# settings\n",
    "# pd.options.mode.chained_assignment = None"
   ]
  },
  {
   "cell_type": "markdown",
   "metadata": {},
   "source": [
    "#### Introduction \n",
    "Social networks is the biggest public forum ever created by mankind and during the time of election, forums are teeming with discussions from negative to positive and everything in between. The conversations create a hub for scientists to analyze texts of large scale and find insights.\n",
    "\n",
    "Our goal is to perform text mining on over `180,000` tweets from `May 10, 2019` to `May 20, 2019` during **2019 Australian Election**. We will implement *Sentiment Analysis* on tweets to find the overall attitude of the twitter users during the time of election. Then we will apply *Network Analysis* to find Twitter users who are best placed to influence the network and find users who can quickly connect with the wider network."
   ]
  },
  {
   "cell_type": "markdown",
   "metadata": {},
   "source": [
    "#### Dataset \n",
    "A summary of the dataset variables:  \n",
    "`created_at`: Date and time of tweet creation  \n",
    "`id`: Unique ID of the tweet  \n",
    "`full_text`: Full tweet text  \n",
    "`retweet_count`: Number of retweets  \n",
    "`favorite_count`: Number of likes  \n",
    "`user_id`: User ID of tweet creator  \n",
    "`user_name`: Username of tweet creator  \n",
    "`user_screen_name`: Screen name of tweet creator  \n",
    "`user_description`: Description on tweet creator's profile  \n",
    "`user_location`: Location given on tweet creator's profile  \n",
    "`user_created_at`: Date the tweet creator joined Twitter "
   ]
  },
  {
   "cell_type": "code",
   "execution_count": 3,
   "metadata": {},
   "outputs": [],
   "source": [
    "# load dataset\n",
    "twitter_data = pd.read_csv(\"auspol2019.csv\", parse_dates = ['created_at', 'user_created_at'])"
   ]
  },
  {
   "cell_type": "markdown",
   "metadata": {},
   "source": [
    "#### Data Exploration\n",
    "We select the variables necessary for our goals and discard the remainder along with 21 rows of missing values."
   ]
  },
  {
   "cell_type": "code",
   "execution_count": 4,
   "metadata": {},
   "outputs": [
    {
     "data": {
      "text/plain": [
       "created_at         0\n",
       "id                 0\n",
       "full_text          0\n",
       "retweet_count      9\n",
       "favorite_count     9\n",
       "user_id            9\n",
       "user_name         21\n",
       "dtype: int64"
      ]
     },
     "execution_count": 4,
     "metadata": {},
     "output_type": "execute_result"
    }
   ],
   "source": [
    "# select varaibles\n",
    "dt = twitter_data.drop([\"user_created_at\", \"user_screen_name\", \"user_description\", \"user_location\"],\n",
    "                      axis = 1)\n",
    "\n",
    "# count row with missing values\n",
    "dt.isnull().sum()"
   ]
  },
  {
   "cell_type": "code",
   "execution_count": 5,
   "metadata": {},
   "outputs": [
    {
     "data": {
      "text/html": [
       "<div>\n",
       "<style>\n",
       "    .dataframe thead tr:only-child th {\n",
       "        text-align: right;\n",
       "    }\n",
       "\n",
       "    .dataframe thead th {\n",
       "        text-align: left;\n",
       "    }\n",
       "\n",
       "    .dataframe tbody tr th {\n",
       "        vertical-align: top;\n",
       "    }\n",
       "</style>\n",
       "<table border=\"1\" class=\"dataframe\">\n",
       "  <thead>\n",
       "    <tr style=\"text-align: right;\">\n",
       "      <th></th>\n",
       "      <th>created_at</th>\n",
       "      <th>id</th>\n",
       "      <th>full_text</th>\n",
       "      <th>retweet_count</th>\n",
       "      <th>favorite_count</th>\n",
       "      <th>user_id</th>\n",
       "      <th>user_name</th>\n",
       "    </tr>\n",
       "  </thead>\n",
       "  <tbody>\n",
       "    <tr>\n",
       "      <th>0</th>\n",
       "      <td>2019-05-20 09:13:44</td>\n",
       "      <td>1130401208756187136</td>\n",
       "      <td>After the climate election: shellshocked green...</td>\n",
       "      <td>0.0</td>\n",
       "      <td>0.0</td>\n",
       "      <td>9.248486e+07</td>\n",
       "      <td>PIPELINEPETE</td>\n",
       "    </tr>\n",
       "    <tr>\n",
       "      <th>1</th>\n",
       "      <td>2019-05-20 09:13:43</td>\n",
       "      <td>1130401205367140357</td>\n",
       "      <td>@narendramodi @smritiirani Coverage of indian ...</td>\n",
       "      <td>0.0</td>\n",
       "      <td>0.0</td>\n",
       "      <td>7.756474e+08</td>\n",
       "      <td>Narinder Parmar</td>\n",
       "    </tr>\n",
       "    <tr>\n",
       "      <th>2</th>\n",
       "      <td>2019-05-20 09:13:33</td>\n",
       "      <td>1130401162782371841</td>\n",
       "      <td>@workmanalice Do you know if Facebook is relea...</td>\n",
       "      <td>0.0</td>\n",
       "      <td>0.0</td>\n",
       "      <td>5.687300e+04</td>\n",
       "      <td>Peter Wells</td>\n",
       "    </tr>\n",
       "    <tr>\n",
       "      <th>3</th>\n",
       "      <td>2019-05-20 09:13:29</td>\n",
       "      <td>1130401143551434753</td>\n",
       "      <td>@vanbadham We all understand we have a compuls...</td>\n",
       "      <td>0.0</td>\n",
       "      <td>0.0</td>\n",
       "      <td>9.081660e+17</td>\n",
       "      <td>The Realist</td>\n",
       "    </tr>\n",
       "    <tr>\n",
       "      <th>4</th>\n",
       "      <td>2019-05-20 09:13:23</td>\n",
       "      <td>1130401118666809345</td>\n",
       "      <td>Shares were mixed in Asia, with India and Aust...</td>\n",
       "      <td>0.0</td>\n",
       "      <td>0.0</td>\n",
       "      <td>5.260074e+08</td>\n",
       "      <td>Inquirer Business</td>\n",
       "    </tr>\n",
       "  </tbody>\n",
       "</table>\n",
       "</div>"
      ],
      "text/plain": [
       "            created_at                   id  \\\n",
       "0  2019-05-20 09:13:44  1130401208756187136   \n",
       "1  2019-05-20 09:13:43  1130401205367140357   \n",
       "2  2019-05-20 09:13:33  1130401162782371841   \n",
       "3  2019-05-20 09:13:29  1130401143551434753   \n",
       "4  2019-05-20 09:13:23  1130401118666809345   \n",
       "\n",
       "                                           full_text  retweet_count  \\\n",
       "0  After the climate election: shellshocked green...            0.0   \n",
       "1  @narendramodi @smritiirani Coverage of indian ...            0.0   \n",
       "2  @workmanalice Do you know if Facebook is relea...            0.0   \n",
       "3  @vanbadham We all understand we have a compuls...            0.0   \n",
       "4  Shares were mixed in Asia, with India and Aust...            0.0   \n",
       "\n",
       "   favorite_count       user_id          user_name  \n",
       "0             0.0  9.248486e+07       PIPELINEPETE  \n",
       "1             0.0  7.756474e+08    Narinder Parmar  \n",
       "2             0.0  5.687300e+04        Peter Wells  \n",
       "3             0.0  9.081660e+17        The Realist  \n",
       "4             0.0  5.260074e+08  Inquirer Business  "
      ]
     },
     "execution_count": 5,
     "metadata": {},
     "output_type": "execute_result"
    }
   ],
   "source": [
    "# drop na and display data\n",
    "dt = dt.dropna()\n",
    "dt.head()"
   ]
  },
  {
   "cell_type": "markdown",
   "metadata": {},
   "source": [
    "Next, we print the count of unique users, unique tweets, most retweets and most favorite tweets."
   ]
  },
  {
   "cell_type": "code",
   "execution_count": 6,
   "metadata": {},
   "outputs": [
    {
     "name": "stdout",
     "output_type": "stream",
     "text": [
      "The dataset has 45861 unique users.\n",
      "And 183358 unique tweets.\n",
      "The tweet with the most retweets had 6622.0 retweets.\n",
      "The tweet with the most favorites had 15559.0 favorites.\n"
     ]
    }
   ],
   "source": [
    "# some information about the dataset\n",
    "print(\"The dataset has\", len(dt.user_id.unique()), \"unique users.\")\n",
    "print(\"And\", len(dt.id.unique()), \"unique tweets.\")\n",
    "print(\"The tweet with the most retweets had\", dt['retweet_count'].max(), \"retweets.\")\n",
    "print(\"The tweet with the most favorites had\", dt['favorite_count'].max(), \"favorites.\")"
   ]
  },
  {
   "cell_type": "markdown",
   "metadata": {},
   "source": [
    "Following Twitter user had this tweet most retweeted and favorited."
   ]
  },
  {
   "cell_type": "code",
   "execution_count": 7,
   "metadata": {},
   "outputs": [
    {
     "name": "stdout",
     "output_type": "stream",
     "text": [
      "SaraCarterDC >>> Shocking defeat for Left in Australia, stunned pollsters and mainstream media who had predicted this election as 'unlosable for Labor'. Conservative @ScottMorrisonMP focused on 'Australian First', Jobs and Imigration, while Labor focused on #ClimateChange https://t.co/hFt7vgwuEd\n"
     ]
    }
   ],
   "source": [
    "# tweet with most retweets and favorites\n",
    "most_retweet_faves = twitter_data.loc[twitter_data[\"favorite_count\"] == 15559.0]\n",
    "print(most_retweet_faves.iloc[0][7], \">>>\", most_retweet_faves.iloc[0][2])"
   ]
  },
  {
   "cell_type": "markdown",
   "metadata": {},
   "source": [
    "Next we visualize the number of tweets per day. As expected, the day of the election , `May 18, 2019`, had the highest number of tweets. "
   ]
  },
  {
   "cell_type": "code",
   "execution_count": 8,
   "metadata": {},
   "outputs": [
    {
     "data": {
      "image/png": "[encoded data removed]",
      "text/plain": [
       "<Figure size 1008x432 with 1 Axes>"
      ]
     },
     "metadata": {
      "needs_background": "light"
     },
     "output_type": "display_data"
    }
   ],
   "source": [
    "# number of tweets by day\n",
    "dt['created_at'] =  pd.to_datetime(dt['created_at'])\n",
    "cnt_srs = dt['created_at'].dt.weekday_name.value_counts()\n",
    "cnt_srs = cnt_srs.sort_index()\n",
    "\n",
    "# bar plot of tweets per day\n",
    "plt.figure(figsize = (14, 6))\n",
    "clrs = ['grey' if (x < max(cnt_srs.values)) else 'red' for x in cnt_srs.values]\n",
    "sns.barplot(cnt_srs.index, cnt_srs.values, alpha = 0.7, palette = clrs)\n",
    "\n",
    "plt.xticks(rotation = 'vertical')\n",
    "plt.xlabel('Day', fontsize = 12)\n",
    "plt.ylabel('Number of Tweets', fontsize=10)\n",
    "plt.title(\"Number of Tweets per Day\")\n",
    "plt.show()"
   ]
  },
  {
   "cell_type": "markdown",
   "metadata": {},
   "source": [
    "#### Text Processing\n",
    "Sentiment analysis, otherwise known as opinion mining is the process of determining the emotional tone behind a series of words, used to gain an understanding of the the attitudes, opinions and emotions expressed within an online mention. \n",
    "\n",
    "In order to perform sentiment analysis on all the 180,000 tweets, we will first grab the column with the full tweets and then clean the data."
   ]
  },
  {
   "cell_type": "code",
   "execution_count": 9,
   "metadata": {
    "scrolled": true
   },
   "outputs": [
    {
     "data": {
      "text/plain": [
       "'@narendramodi @smritiirani Coverage of indian election on SBS tv channel, Australia. Jai hind 🇮🇳🙏 https://t.co/90qplBEAf8'"
      ]
     },
     "execution_count": 9,
     "metadata": {},
     "output_type": "execute_result"
    }
   ],
   "source": [
    "# get the column with the full tweets\n",
    "tweets = dt[[\"full_text\"]]\n",
    "\n",
    "# print of a tweet\n",
    "tweets.iloc[:,0][1]"
   ]
  },
  {
   "cell_type": "markdown",
   "metadata": {},
   "source": [
    "As we can see from the example of a tweet above, our dataset has several symbols, emoticons, urls, punctuation and etc. These characters do not tell much about the dataset. Therefore, we will create a function to remove these characters. "
   ]
  },
  {
   "cell_type": "code",
   "execution_count": 21,
   "metadata": {},
   "outputs": [],
   "source": [
    "# clean text function\n",
    "def tidy_tweet(text):\n",
    "    stop_words = stopwords.words('english')\n",
    "    lemma = nltk.WordNetLemmatizer()\n",
    "    \n",
    "    a = text.str.replace(\"#[A-Za-z0-9]+\", \"\") # removes #hastags\n",
    "    b = a.str.replace(\"@[A-Za-z0-9]+\", \"\") # removes @usernames\n",
    "    c = b.str.replace(\"https?://[A-Za-z0-9./]+\", \"\") # removes urls\n",
    "    d = c.str.replace(\"[^a-zA-Z]\", \" \") # keeps everything but alphabets\n",
    "    e = d.str.lower() # lowercases the words\n",
    "    f = e.apply(lambda x: x.split()) # tokenizes the tweets\n",
    "    g = f.apply(lambda x: [i for i in x if i not in stop_words]) # removes stop words\n",
    "    f = g.apply(lambda x: [lemma.lemmatize(i) for i in x]) # lemmatisation of words\n",
    "    return f"
   ]
  },
  {
   "cell_type": "markdown",
   "metadata": {},
   "source": [
    "Next, we run the function on the dataset and print the same tweet to see its performance. As we can see, usernames, puntuation, urls, emoticon and stop words are removed. And the words are lower-capitalized as well."
   ]
  },
  {
   "cell_type": "code",
   "execution_count": 11,
   "metadata": {},
   "outputs": [
    {
     "data": {
      "text/plain": [
       "['coverage',\n",
       " 'indian',\n",
       " 'election',\n",
       " 'sb',\n",
       " 'tv',\n",
       " 'channel',\n",
       " 'australia',\n",
       " 'jai',\n",
       " 'hind']"
      ]
     },
     "execution_count": 11,
     "metadata": {},
     "output_type": "execute_result"
    }
   ],
   "source": [
    "# run the function on the dataset\n",
    "hf_token = tidy_tweet(tweets.full_text)\n",
    "\n",
    "# print the same tweet after cleaning\n",
    "hf_token[1]"
   ]
  },
  {
   "cell_type": "markdown",
   "metadata": {},
   "source": [
    "##### Data Exploration and Visualization of the Texts\n",
    "Now that we have all the tweets cleaned, we will perform some analysis. First, we will determine the high frequency words which appeared most during the time of election. We see several words related to Australia and election appear on the list.\n",
    "\n",
    "One distinct word in the list is `AMP` which seems not related to election at first sight to an outsider. However, AMP is a major financial company in Australia who made forecast on the economy of Australia due to the result of the election. \n",
    "\n",
    "A quick Google search of AMP of the election time shows economic fears drove Australia's surprise election results. [Source](https://www.wsj.com/articles/economic-fears-drove-australias-surprise-election-result-11558256778)\n",
    "\n",
    "We also graph a cloud of words based on how often they appear. Some noticeable words are - climate and Morrison. People feared the worst for climate after Morrison won the election. [Source](https://thinkprogress.org/we-have-lost-australia-warns-climate-scientist-scott-morrison-upset-92008fabb597/)\n",
    "\n",
    "Lastly, we visualize the high frequency words. We see the appearance of Bill `Shorten` and his `Labor` party who lost the election. "
   ]
  },
  {
   "cell_type": "code",
   "execution_count": 12,
   "metadata": {},
   "outputs": [
    {
     "data": {
      "text/html": [
       "<div>\n",
       "<style>\n",
       "    .dataframe thead tr:only-child th {\n",
       "        text-align: right;\n",
       "    }\n",
       "\n",
       "    .dataframe thead th {\n",
       "        text-align: left;\n",
       "    }\n",
       "\n",
       "    .dataframe tbody tr th {\n",
       "        vertical-align: top;\n",
       "    }\n",
       "</style>\n",
       "<table border=\"1\" class=\"dataframe\">\n",
       "  <thead>\n",
       "    <tr style=\"text-align: right;\">\n",
       "      <th></th>\n",
       "      <th>Word</th>\n",
       "      <th>Count</th>\n",
       "    </tr>\n",
       "  </thead>\n",
       "  <tbody>\n",
       "    <tr>\n",
       "      <th>0</th>\n",
       "      <td>election</td>\n",
       "      <td>35402</td>\n",
       "    </tr>\n",
       "    <tr>\n",
       "      <th>1</th>\n",
       "      <td>australia</td>\n",
       "      <td>34189</td>\n",
       "    </tr>\n",
       "    <tr>\n",
       "      <th>2</th>\n",
       "      <td>vote</td>\n",
       "      <td>24221</td>\n",
       "    </tr>\n",
       "    <tr>\n",
       "      <th>3</th>\n",
       "      <td>labor</td>\n",
       "      <td>18521</td>\n",
       "    </tr>\n",
       "    <tr>\n",
       "      <th>4</th>\n",
       "      <td>amp</td>\n",
       "      <td>16082</td>\n",
       "    </tr>\n",
       "    <tr>\n",
       "      <th>5</th>\n",
       "      <td>party</td>\n",
       "      <td>11716</td>\n",
       "    </tr>\n",
       "    <tr>\n",
       "      <th>6</th>\n",
       "      <td>people</td>\n",
       "      <td>11483</td>\n",
       "    </tr>\n",
       "    <tr>\n",
       "      <th>7</th>\n",
       "      <td>australian</td>\n",
       "      <td>10938</td>\n",
       "    </tr>\n",
       "    <tr>\n",
       "      <th>8</th>\n",
       "      <td>get</td>\n",
       "      <td>9694</td>\n",
       "    </tr>\n",
       "    <tr>\n",
       "      <th>9</th>\n",
       "      <td>like</td>\n",
       "      <td>9505</td>\n",
       "    </tr>\n",
       "  </tbody>\n",
       "</table>\n",
       "</div>"
      ],
      "text/plain": [
       "         Word  Count\n",
       "0    election  35402\n",
       "1   australia  34189\n",
       "2        vote  24221\n",
       "3       labor  18521\n",
       "4         amp  16082\n",
       "5       party  11716\n",
       "6      people  11483\n",
       "7  australian  10938\n",
       "8         get   9694\n",
       "9        like   9505"
      ]
     },
     "execution_count": 12,
     "metadata": {},
     "output_type": "execute_result"
    }
   ],
   "source": [
    "# high frequency words\n",
    "c = Counter()\n",
    "for i in hf_token:\n",
    "    c.update(i)\n",
    "    \n",
    "hf_words = pd.DataFrame(c.most_common(), columns = [\"Word\", \"Count\"])\n",
    "hf_words.head(10)"
   ]
  },
  {
   "cell_type": "code",
   "execution_count": 13,
   "metadata": {},
   "outputs": [
    {
     "data": {
      "image/png": "[encoded data removed]",
      "text/plain": [
       "<Figure size 720x720 with 1 Axes>"
      ]
     },
     "metadata": {
      "needs_background": "light"
     },
     "output_type": "display_data"
    }
   ],
   "source": [
    "# word cloud of top 100 words\n",
    "wordcloud = WordCloud(random_state = 21, \n",
    "                      max_words = 100, \n",
    "                      max_font_size = 110, \n",
    "                      background_color = \"white\").generate(str(hf_words.Word))\n",
    "\n",
    "plt.figure(figsize = (10, 10))\n",
    "plt.imshow(wordcloud, interpolation = \"bilinear\")\n",
    "plt.axis('off')\n",
    "plt.show()"
   ]
  },
  {
   "cell_type": "code",
   "execution_count": 14,
   "metadata": {
    "scrolled": true
   },
   "outputs": [
    {
     "data": {
      "text/plain": [
       "<matplotlib.axes._subplots.AxesSubplot at 0x269b86f15c0>"
      ]
     },
     "execution_count": 14,
     "metadata": {},
     "output_type": "execute_result"
    },
    {
     "data": {
      "image/png": "[encoded data removed]",
      "text/plain": [
       "<Figure size 720x288 with 1 Axes>"
      ]
     },
     "metadata": {},
     "output_type": "display_data"
    }
   ],
   "source": [
    "# visualiation of the high frequency words\n",
    "style.use('fivethirtyeight')\n",
    "\n",
    "figure, ax = plt.subplots(nrows = 1, ncols = 1)\n",
    "figure.set_size_inches(10, 4)\n",
    "\n",
    "sns.barplot(data = hf_words[:20], y = \"Word\", x = \"Count\", ax = ax)"
   ]
  },
  {
   "cell_type": "markdown",
   "metadata": {},
   "source": [
    "#### Sentiment Analysis\n",
    "Now that we have inspected the clean dataset, we can perform our Sentiment Analysis. `NLTK` comes with an inbuilt sentiment analyzer module `nltk.sentiment.vader` that can analyze a piece of text and classify the sentences under positive, negative and neutral polarity of sentiments. \n",
    "\n",
    "Next, we visualize the distribution of the sentiment and see that the overall sentiment around the election was positive. However, a large number was neutral as well. We hypothesize the overall sentiment is ambivalent. "
   ]
  },
  {
   "cell_type": "code",
   "execution_count": 15,
   "metadata": {},
   "outputs": [
    {
     "data": {
      "text/html": [
       "<div>\n",
       "<style>\n",
       "    .dataframe thead tr:only-child th {\n",
       "        text-align: right;\n",
       "    }\n",
       "\n",
       "    .dataframe thead th {\n",
       "        text-align: left;\n",
       "    }\n",
       "\n",
       "    .dataframe tbody tr th {\n",
       "        vertical-align: top;\n",
       "    }\n",
       "</style>\n",
       "<table border=\"1\" class=\"dataframe\">\n",
       "  <thead>\n",
       "    <tr style=\"text-align: right;\">\n",
       "      <th></th>\n",
       "      <th>compound</th>\n",
       "      <th>neg</th>\n",
       "      <th>neu</th>\n",
       "      <th>pos</th>\n",
       "      <th>tweet</th>\n",
       "      <th>label</th>\n",
       "    </tr>\n",
       "  </thead>\n",
       "  <tbody>\n",
       "    <tr>\n",
       "      <th>0</th>\n",
       "      <td>0.2732</td>\n",
       "      <td>0.000</td>\n",
       "      <td>0.741</td>\n",
       "      <td>0.259</td>\n",
       "      <td>climate election shellshocked green group rema...</td>\n",
       "      <td>1</td>\n",
       "    </tr>\n",
       "    <tr>\n",
       "      <th>1</th>\n",
       "      <td>0.0000</td>\n",
       "      <td>0.000</td>\n",
       "      <td>1.000</td>\n",
       "      <td>0.000</td>\n",
       "      <td>coverage indian election sb tv channel austral...</td>\n",
       "      <td>0</td>\n",
       "    </tr>\n",
       "    <tr>\n",
       "      <th>2</th>\n",
       "      <td>-0.1531</td>\n",
       "      <td>0.169</td>\n",
       "      <td>0.704</td>\n",
       "      <td>0.127</td>\n",
       "      <td>know facebook releasing election post mortem a...</td>\n",
       "      <td>0</td>\n",
       "    </tr>\n",
       "    <tr>\n",
       "      <th>3</th>\n",
       "      <td>-0.2755</td>\n",
       "      <td>0.117</td>\n",
       "      <td>0.883</td>\n",
       "      <td>0.000</td>\n",
       "      <td>understand compulsory preference system vote g...</td>\n",
       "      <td>-1</td>\n",
       "    </tr>\n",
       "    <tr>\n",
       "      <th>4</th>\n",
       "      <td>0.6808</td>\n",
       "      <td>0.000</td>\n",
       "      <td>0.699</td>\n",
       "      <td>0.301</td>\n",
       "      <td>share mixed asia india australia leading gain ...</td>\n",
       "      <td>1</td>\n",
       "    </tr>\n",
       "  </tbody>\n",
       "</table>\n",
       "</div>"
      ],
      "text/plain": [
       "   compound    neg    neu    pos  \\\n",
       "0    0.2732  0.000  0.741  0.259   \n",
       "1    0.0000  0.000  1.000  0.000   \n",
       "2   -0.1531  0.169  0.704  0.127   \n",
       "3   -0.2755  0.117  0.883  0.000   \n",
       "4    0.6808  0.000  0.699  0.301   \n",
       "\n",
       "                                               tweet  label  \n",
       "0  climate election shellshocked green group rema...      1  \n",
       "1  coverage indian election sb tv channel austral...      0  \n",
       "2  know facebook releasing election post mortem a...      0  \n",
       "3  understand compulsory preference system vote g...     -1  \n",
       "4  share mixed asia india australia leading gain ...      1  "
      ]
     },
     "execution_count": 15,
     "metadata": {},
     "output_type": "execute_result"
    }
   ],
   "source": [
    "# perform SA and store the result in a new dataframe\n",
    "sa = sia()\n",
    "results = []\n",
    "tidy_tweet = hf_token.apply(lambda x: \" \".join(x))\n",
    "\n",
    "for i in list(tidy_tweet):\n",
    "    pol_score = sa.polarity_scores(i)\n",
    "    pol_score['tweet'] = i\n",
    "    results.append(pol_score)\n",
    "    \n",
    "sa_score = pd.DataFrame.from_records(results)\n",
    "\n",
    "# create label based on positive and negative sentiment\n",
    "sa_score['label'] = 0\n",
    "sa_score.loc[sa_score['compound'] > 0.2, 'label'] = 1\n",
    "sa_score.loc[sa_score['compound'] < -0.2, 'label'] = -1\n",
    "\n",
    "# print first 5 rows\n",
    "sa_score.head()"
   ]
  },
  {
   "cell_type": "code",
   "execution_count": 16,
   "metadata": {
    "scrolled": false
   },
   "outputs": [
    {
     "data": {
      "image/png": "[encoded data removed]",
      "text/plain": [
       "<Figure size 576x576 with 1 Axes>"
      ]
     },
     "metadata": {},
     "output_type": "display_data"
    }
   ],
   "source": [
    "# distribution of the sentiment analysis\n",
    "fig, ax = plt.subplots(figsize=(8, 8))\n",
    "\n",
    "# normalize the data\n",
    "counts = sa_score.label.value_counts(normalize = True) * 100\n",
    "\n",
    "# graph the bar\n",
    "sns.barplot(x = counts.index, y = counts, ax = ax)\n",
    "ax.set_xticklabels(['Negative', 'Neutral', 'Positive'])\n",
    "ax.set_ylabel(\"Percentage\")\n",
    "plt.show()"
   ]
  },
  {
   "cell_type": "markdown",
   "metadata": {},
   "source": [
    "The overall sentiment does not paint an accurate picture of the opinion of the Twitter users during election. That is due to several factors - \n",
    "\n",
    "* The result was considered an upset as polling had placed the Coalition (winning party) consistently behind for almost three years. \n",
    "* It was the first time since 2001 that a Federal government in Australia won a third consecutive term in office. [Source](https://www.abc.net.au/news/2019-05-19/how-labor-lost-queensland-and-gifted-the-coalition-a-third-term/11122998)\n",
    "* Australian Labor leader Bill Shorten have been labeled as the man who lost the unlosable election. [Source](https://blogs.spectator.co.uk/2019/05/how-climate-change-decided-australias-election/)\n",
    "\n",
    "It seems the election had a surprise outcome. Therefore, we will separate the data into two categories, one before election results and one after the election the results. We hope to find a difference in opinion after the surprise victory by Scott Morrison."
   ]
  },
  {
   "cell_type": "code",
   "execution_count": 17,
   "metadata": {},
   "outputs": [],
   "source": [
    "# create dataset of before and after election\n",
    "full_tweet = pd.concat([dt, sa_score[[\"tweet\", \"label\"]]], axis = 1)\n",
    "after_election = full_tweet[(full_tweet['created_at'] > '2019-05-19 00:00:01')]\n",
    "before_election = full_tweet[(full_tweet['created_at'] <= '2019-05-19 00:00:01')]"
   ]
  },
  {
   "cell_type": "markdown",
   "metadata": {},
   "source": [
    "The bar plot below tells us a lot more about the opinion of Twitter user during the time election than the overall sentiment. We notice several phenomenon -\n",
    "\n",
    "* Positive: We notice a small increase in positive polarity. We believe it is due to the supporters of Scott Morrison celebrating his victory. \n",
    "* Neutral: This is where we see the most change in polarity. We hypothesize that this is due to the result being a surprise. We already saw people fear for climate after Mr. Scott won the election. We believe these tweets are of users showing concerns for the future of our climate.\n",
    "* Negative: We believe the increase in negative polarity backs our hypothesize about neutral polarity. Before election, people did not care much but after the unexpected outcome, people showed their distaste and uncertainty about the future."
   ]
  },
  {
   "cell_type": "code",
   "execution_count": 18,
   "metadata": {},
   "outputs": [
    {
     "data": {
      "image/png": "[encoded data removed]",
      "text/plain": [
       "<Figure size 576x576 with 1 Axes>"
      ]
     },
     "metadata": {},
     "output_type": "display_data"
    }
   ],
   "source": [
    "# distribution of the sentiment analysis of before election\n",
    "fig, ax = plt.subplots(figsize=(8, 8))\n",
    "\n",
    "# normalize the data\n",
    "counts = before_election.label.value_counts(normalize = True) * 100\n",
    "\n",
    "# graph the bar\n",
    "sns.barplot(x = counts.index, y = counts, ax = ax)\n",
    "ax.set_xticklabels(['Negative', 'Neutral', 'Positive'])\n",
    "ax.set_ylabel(\"Percentage\")\n",
    "plt.show()"
   ]
  },
  {
   "cell_type": "code",
   "execution_count": 19,
   "metadata": {},
   "outputs": [
    {
     "data": {
      "image/png": "[encoded data removed]",
      "text/plain": [
       "<Figure size 576x576 with 1 Axes>"
      ]
     },
     "metadata": {},
     "output_type": "display_data"
    }
   ],
   "source": [
    "# distribution of the sentiment analysis of after election\n",
    "fig, ax = plt.subplots(figsize=(8, 8))\n",
    "\n",
    "# normalize the data\n",
    "counts = after_election.label.value_counts(normalize = True) * 100\n",
    "\n",
    "# graph the bar\n",
    "sns.barplot(x = counts.index, y = counts, ax = ax)\n",
    "ax.set_xticklabels(['Negative', 'Neutral', 'Positive'])\n",
    "ax.set_ylabel(\"Percentage\")\n",
    "plt.show()"
   ]
  },
  {
   "cell_type": "markdown",
   "metadata": {},
   "source": [
    "We can further verify our assumption by looking deeper into the words associated with their corresponding sentiment. We have noticed high frequency words does not tell much about the opinion because they are common words such as election, Australia and etc.\n",
    "\n",
    "To better understand the opinion of Twitter users, we can filter out the words that only appear in positive tweets and filter out the words that only appear in negative tweets.\n",
    "\n",
    "* Positive: As we assumed, the positive tweets are mostly from people who supported Scott Morrison and celebrated his victory. \n",
    "* Negative: Even though overall negative sentiment was low, we saw it increased after the election. And it is noticeable here. `Think progress` wrote the aforementioned article about climate hence their appearance on the list. We also see several words related to uncertainty of the future."
   ]
  },
  {
   "cell_type": "code",
   "execution_count": 25,
   "metadata": {
    "scrolled": false
   },
   "outputs": [
    {
     "data": {
      "text/html": [
       "<div>\n",
       "<style>\n",
       "    .dataframe thead tr:only-child th {\n",
       "        text-align: right;\n",
       "    }\n",
       "\n",
       "    .dataframe thead th {\n",
       "        text-align: left;\n",
       "    }\n",
       "\n",
       "    .dataframe tbody tr th {\n",
       "        vertical-align: top;\n",
       "    }\n",
       "</style>\n",
       "<table border=\"1\" class=\"dataframe\">\n",
       "  <thead>\n",
       "    <tr style=\"text-align: right;\">\n",
       "      <th></th>\n",
       "      <th>Word</th>\n",
       "      <th>Count</th>\n",
       "    </tr>\n",
       "  </thead>\n",
       "  <tbody>\n",
       "    <tr>\n",
       "      <th>355</th>\n",
       "      <td>seizes</td>\n",
       "      <td>454</td>\n",
       "    </tr>\n",
       "    <tr>\n",
       "      <th>493</th>\n",
       "      <td>celebrates</td>\n",
       "      <td>317</td>\n",
       "    </tr>\n",
       "    <tr>\n",
       "      <th>775</th>\n",
       "      <td>damien</td>\n",
       "      <td>202</td>\n",
       "    </tr>\n",
       "    <tr>\n",
       "      <th>1618</th>\n",
       "      <td>poised</td>\n",
       "      <td>83</td>\n",
       "    </tr>\n",
       "    <tr>\n",
       "      <th>2678</th>\n",
       "      <td>npr</td>\n",
       "      <td>44</td>\n",
       "    </tr>\n",
       "    <tr>\n",
       "      <th>2843</th>\n",
       "      <td>delighted</td>\n",
       "      <td>40</td>\n",
       "    </tr>\n",
       "    <tr>\n",
       "      <th>2958</th>\n",
       "      <td>wilt</td>\n",
       "      <td>38</td>\n",
       "    </tr>\n",
       "    <tr>\n",
       "      <th>3704</th>\n",
       "      <td>appreciated</td>\n",
       "      <td>26</td>\n",
       "    </tr>\n",
       "    <tr>\n",
       "      <th>3756</th>\n",
       "      <td>inspirational</td>\n",
       "      <td>26</td>\n",
       "    </tr>\n",
       "    <tr>\n",
       "      <th>3812</th>\n",
       "      <td>azerbaijan</td>\n",
       "      <td>25</td>\n",
       "    </tr>\n",
       "  </tbody>\n",
       "</table>\n",
       "</div>"
      ],
      "text/plain": [
       "               Word  Count\n",
       "355          seizes    454\n",
       "493      celebrates    317\n",
       "775          damien    202\n",
       "1618         poised     83\n",
       "2678            npr     44\n",
       "2843      delighted     40\n",
       "2958           wilt     38\n",
       "3704    appreciated     26\n",
       "3756  inspirational     26\n",
       "3812     azerbaijan     25"
      ]
     },
     "execution_count": 25,
     "metadata": {},
     "output_type": "execute_result"
    }
   ],
   "source": [
    "# unique positive words\n",
    "pos_tweets = sa_score[sa_score.label == 1].tweet\n",
    "pos_words = tidy_tweet(pos_tweets)\n",
    "\n",
    "# high frequency words\n",
    "c = Counter()\n",
    "for i in pos_words:\n",
    "    c.update(i)\n",
    "    \n",
    "posi_words = pd.DataFrame(c.most_common(), columns = [\"Word\", \"Count\"])\n",
    "posi_words[np.logical_not(posi_words.Word.isin(negi_words.Word))].head(10)"
   ]
  },
  {
   "cell_type": "code",
   "execution_count": 24,
   "metadata": {},
   "outputs": [
    {
     "data": {
      "text/html": [
       "<div>\n",
       "<style>\n",
       "    .dataframe thead tr:only-child th {\n",
       "        text-align: right;\n",
       "    }\n",
       "\n",
       "    .dataframe thead th {\n",
       "        text-align: left;\n",
       "    }\n",
       "\n",
       "    .dataframe tbody tr th {\n",
       "        vertical-align: top;\n",
       "    }\n",
       "</style>\n",
       "<table border=\"1\" class=\"dataframe\">\n",
       "  <thead>\n",
       "    <tr style=\"text-align: right;\">\n",
       "      <th></th>\n",
       "      <th>Word</th>\n",
       "      <th>Count</th>\n",
       "    </tr>\n",
       "  </thead>\n",
       "  <tbody>\n",
       "    <tr>\n",
       "      <th>2976</th>\n",
       "      <td>thinkprogress</td>\n",
       "      <td>28</td>\n",
       "    </tr>\n",
       "    <tr>\n",
       "      <th>3199</th>\n",
       "      <td>nonexistent</td>\n",
       "      <td>26</td>\n",
       "    </tr>\n",
       "    <tr>\n",
       "      <th>3428</th>\n",
       "      <td>jailed</td>\n",
       "      <td>23</td>\n",
       "    </tr>\n",
       "    <tr>\n",
       "      <th>3482</th>\n",
       "      <td>gloom</td>\n",
       "      <td>22</td>\n",
       "    </tr>\n",
       "    <tr>\n",
       "      <th>3651</th>\n",
       "      <td>laborout</td>\n",
       "      <td>21</td>\n",
       "    </tr>\n",
       "    <tr>\n",
       "      <th>3698</th>\n",
       "      <td>forecaster</td>\n",
       "      <td>20</td>\n",
       "    </tr>\n",
       "    <tr>\n",
       "      <th>3885</th>\n",
       "      <td>evades</td>\n",
       "      <td>19</td>\n",
       "    </tr>\n",
       "    <tr>\n",
       "      <th>4000</th>\n",
       "      <td>harassing</td>\n",
       "      <td>18</td>\n",
       "    </tr>\n",
       "    <tr>\n",
       "      <th>4016</th>\n",
       "      <td>uproar</td>\n",
       "      <td>18</td>\n",
       "    </tr>\n",
       "    <tr>\n",
       "      <th>4112</th>\n",
       "      <td>reek</td>\n",
       "      <td>17</td>\n",
       "    </tr>\n",
       "  </tbody>\n",
       "</table>\n",
       "</div>"
      ],
      "text/plain": [
       "               Word  Count\n",
       "2976  thinkprogress     28\n",
       "3199    nonexistent     26\n",
       "3428         jailed     23\n",
       "3482          gloom     22\n",
       "3651       laborout     21\n",
       "3698     forecaster     20\n",
       "3885         evades     19\n",
       "4000      harassing     18\n",
       "4016         uproar     18\n",
       "4112           reek     17"
      ]
     },
     "execution_count": 24,
     "metadata": {},
     "output_type": "execute_result"
    }
   ],
   "source": [
    "# unique negative words\n",
    "neg_tweets = sa_score[sa_score.label == -1].tweet\n",
    "neg_words = tidy_tweet(neg_tweets)\n",
    "\n",
    "# high frequency words\n",
    "c = Counter()\n",
    "for i in neg_words:\n",
    "    c.update(i)\n",
    "    \n",
    "negi_words = pd.DataFrame(c.most_common(), columns = [\"Word\", \"Count\"])\n",
    "negi_words[np.logical_not(negi_words.Word.isin(posi_words.Word))].head(10)"
   ]
  },
  {
   "cell_type": "markdown",
   "metadata": {},
   "source": [
    "#### Social Network Analysis\n",
    "Social network analysis (SNA) is the process of investigating social structures through the use of networks and graph theory. It characterizes networked structures in terms of nodes (twitter users, tweets) and the ties, edges, or links (interactions) that connect them.\n",
    "\n",
    "As we have already noticed, the biggest change is polarity was the tweets labeled neutral and it happened after the election. And the majority of the change was towards negative opinion. Therefore, our goal is to perform network analysis on the after-election dataset to find which users spread the negative opinions."
   ]
  },
  {
   "cell_type": "code",
   "execution_count": 26,
   "metadata": {
    "scrolled": true
   },
   "outputs": [
    {
     "data": {
      "text/html": [
       "<div>\n",
       "<style>\n",
       "    .dataframe thead tr:only-child th {\n",
       "        text-align: right;\n",
       "    }\n",
       "\n",
       "    .dataframe thead th {\n",
       "        text-align: left;\n",
       "    }\n",
       "\n",
       "    .dataframe tbody tr th {\n",
       "        vertical-align: top;\n",
       "    }\n",
       "</style>\n",
       "<table border=\"1\" class=\"dataframe\">\n",
       "  <thead>\n",
       "    <tr style=\"text-align: right;\">\n",
       "      <th></th>\n",
       "      <th>created_at</th>\n",
       "      <th>id</th>\n",
       "      <th>full_text</th>\n",
       "      <th>retweet_count</th>\n",
       "      <th>favorite_count</th>\n",
       "      <th>user_id</th>\n",
       "      <th>user_name</th>\n",
       "      <th>tweet</th>\n",
       "      <th>label</th>\n",
       "    </tr>\n",
       "  </thead>\n",
       "  <tbody>\n",
       "    <tr>\n",
       "      <th>3</th>\n",
       "      <td>2019-05-20 09:13:29</td>\n",
       "      <td>1130401143551434753</td>\n",
       "      <td>@vanbadham We all understand we have a compuls...</td>\n",
       "      <td>0.0</td>\n",
       "      <td>0.0</td>\n",
       "      <td>908166034045026304</td>\n",
       "      <td>The Realist</td>\n",
       "      <td>understand compulsory preference system vote g...</td>\n",
       "      <td>-1.0</td>\n",
       "    </tr>\n",
       "    <tr>\n",
       "      <th>6</th>\n",
       "      <td>2019-05-20 09:12:57</td>\n",
       "      <td>1130401009782673408</td>\n",
       "      <td>It is disappointing that @tanya_plibersek has ...</td>\n",
       "      <td>0.0</td>\n",
       "      <td>0.0</td>\n",
       "      <td>51002583</td>\n",
       "      <td>Matthew Rimmer</td>\n",
       "      <td>disappointing plibersek ruled leadership chall...</td>\n",
       "      <td>-1.0</td>\n",
       "    </tr>\n",
       "    <tr>\n",
       "      <th>8</th>\n",
       "      <td>2019-05-20 09:12:04</td>\n",
       "      <td>1130400789694885888</td>\n",
       "      <td>'Quiet Australians' are the latest to upset el...</td>\n",
       "      <td>0.0</td>\n",
       "      <td>0.0</td>\n",
       "      <td>1740060962</td>\n",
       "      <td>Moved</td>\n",
       "      <td>quiet australian latest upset election forecas...</td>\n",
       "      <td>-1.0</td>\n",
       "    </tr>\n",
       "    <tr>\n",
       "      <th>17</th>\n",
       "      <td>2019-05-20 09:07:57</td>\n",
       "      <td>1130399752527306752</td>\n",
       "      <td>#财经视野 #BIZpective\\nAustralia election just ove...</td>\n",
       "      <td>0.0</td>\n",
       "      <td>0.0</td>\n",
       "      <td>228310395</td>\n",
       "      <td>EG YIK FAN 吴益帆</td>\n",
       "      <td>australia election australian dollar perform h...</td>\n",
       "      <td>-1.0</td>\n",
       "    </tr>\n",
       "    <tr>\n",
       "      <th>18</th>\n",
       "      <td>2019-05-20 09:07:19</td>\n",
       "      <td>1130399591986155522</td>\n",
       "      <td>BBC News - 2019 Australia election: Morrison's...</td>\n",
       "      <td>0.0</td>\n",
       "      <td>0.0</td>\n",
       "      <td>1118532228886040576</td>\n",
       "      <td>markasher224</td>\n",
       "      <td>bbc news australia election morrison coalition...</td>\n",
       "      <td>-1.0</td>\n",
       "    </tr>\n",
       "  </tbody>\n",
       "</table>\n",
       "</div>"
      ],
      "text/plain": [
       "            created_at                   id  \\\n",
       "3  2019-05-20 09:13:29  1130401143551434753   \n",
       "6  2019-05-20 09:12:57  1130401009782673408   \n",
       "8  2019-05-20 09:12:04  1130400789694885888   \n",
       "17 2019-05-20 09:07:57  1130399752527306752   \n",
       "18 2019-05-20 09:07:19  1130399591986155522   \n",
       "\n",
       "                                            full_text  retweet_count  \\\n",
       "3   @vanbadham We all understand we have a compuls...            0.0   \n",
       "6   It is disappointing that @tanya_plibersek has ...            0.0   \n",
       "8   'Quiet Australians' are the latest to upset el...            0.0   \n",
       "17  #财经视野 #BIZpective\\nAustralia election just ove...            0.0   \n",
       "18  BBC News - 2019 Australia election: Morrison's...            0.0   \n",
       "\n",
       "    favorite_count              user_id       user_name  \\\n",
       "3              0.0   908166034045026304     The Realist   \n",
       "6              0.0             51002583  Matthew Rimmer   \n",
       "8              0.0           1740060962           Moved   \n",
       "17             0.0            228310395  EG YIK FAN 吴益帆   \n",
       "18             0.0  1118532228886040576    markasher224   \n",
       "\n",
       "                                                tweet  label  \n",
       "3   understand compulsory preference system vote g...   -1.0  \n",
       "6   disappointing plibersek ruled leadership chall...   -1.0  \n",
       "8   quiet australian latest upset election forecas...   -1.0  \n",
       "17  australia election australian dollar perform h...   -1.0  \n",
       "18  bbc news australia election morrison coalition...   -1.0  "
      ]
     },
     "execution_count": 26,
     "metadata": {},
     "output_type": "execute_result"
    }
   ],
   "source": [
    "# convert user id to int to create nodes\n",
    "after_election['user_id'] = after_election['user_id'].apply(np.int64)\n",
    "negative_tweets_ae = after_election.loc[full_tweet[\"label\"] == -1]\n",
    "negative_tweets_ae.head()"
   ]
  },
  {
   "cell_type": "markdown",
   "metadata": {},
   "source": [
    "First, we create the graph of the dataset with the following nodes and edges and print the graph information - \n",
    "* `user_id`: Node 1\n",
    "* `id`: Node 2\n",
    "* `retweet_count` and `favourite_count`: Edge Attribute"
   ]
  },
  {
   "cell_type": "code",
   "execution_count": 27,
   "metadata": {},
   "outputs": [
    {
     "name": "stdout",
     "output_type": "stream",
     "text": [
      "Name: \n",
      "Type: Graph\n",
      "Number of nodes: 12307\n",
      "Number of edges: 7642\n",
      "Average degree:   1.2419\n"
     ]
    }
   ],
   "source": [
    "# create and print graph information\n",
    "G = nx.from_pandas_dataframe(negative_tweets_ae , 'user_id', 'id', edge_attr = ['retweet_count', 'favorite_count'], create_using=nx.Graph())\n",
    "print(nx.info(G))"
   ]
  },
  {
   "cell_type": "markdown",
   "metadata": {},
   "source": [
    "Next, we will calculate the closeness centrality. It will help us find good broadcasters. These individuals are best placed to influence the entire network most quickly. \n",
    "\n",
    "We found user `1559468120` was best placed to influence the entire network."
   ]
  },
  {
   "cell_type": "code",
   "execution_count": 62,
   "metadata": {},
   "outputs": [
    {
     "data": {
      "text/html": [
       "<div>\n",
       "<style>\n",
       "    .dataframe thead tr:only-child th {\n",
       "        text-align: right;\n",
       "    }\n",
       "\n",
       "    .dataframe thead th {\n",
       "        text-align: left;\n",
       "    }\n",
       "\n",
       "    .dataframe tbody tr th {\n",
       "        vertical-align: top;\n",
       "    }\n",
       "</style>\n",
       "<table border=\"1\" class=\"dataframe\">\n",
       "  <thead>\n",
       "    <tr style=\"text-align: right;\">\n",
       "      <th></th>\n",
       "      <th>Nodes</th>\n",
       "      <th>Closeness Centrality</th>\n",
       "    </tr>\n",
       "  </thead>\n",
       "  <tbody>\n",
       "    <tr>\n",
       "      <th>4177</th>\n",
       "      <td>1559468120</td>\n",
       "      <td>0.005038</td>\n",
       "    </tr>\n",
       "    <tr>\n",
       "      <th>3646</th>\n",
       "      <td>108577207</td>\n",
       "      <td>0.004226</td>\n",
       "    </tr>\n",
       "    <tr>\n",
       "      <th>4090</th>\n",
       "      <td>775468048908029952</td>\n",
       "      <td>0.002925</td>\n",
       "    </tr>\n",
       "    <tr>\n",
       "      <th>4046</th>\n",
       "      <td>413624285</td>\n",
       "      <td>0.002600</td>\n",
       "    </tr>\n",
       "    <tr>\n",
       "      <th>7336</th>\n",
       "      <td>1130129048972083205</td>\n",
       "      <td>0.002540</td>\n",
       "    </tr>\n",
       "  </tbody>\n",
       "</table>\n",
       "</div>"
      ],
      "text/plain": [
       "                    Nodes  Closeness Centrality\n",
       "4177           1559468120              0.005038\n",
       "3646            108577207              0.004226\n",
       "4090   775468048908029952              0.002925\n",
       "4046            413624285              0.002600\n",
       "7336  1130129048972083205              0.002540"
      ]
     },
     "execution_count": 62,
     "metadata": {},
     "output_type": "execute_result"
    }
   ],
   "source": [
    "# closeness centrality\n",
    "close = nx.closeness_centrality(G)\n",
    "closeness = pd.DataFrame([close.values()], columns = close.keys()).T.reset_index()\n",
    "closeness.rename(columns = {0: 'Closeness Centrality', 'index': 'Nodes'}, inplace = True)\n",
    "closeness.sort_values(['Closeness Centrality'], ascending = False, inplace = True)\n",
    "closeness.head()"
   ]
  },
  {
   "cell_type": "markdown",
   "metadata": {},
   "source": [
    "Lastly, we calculate `EigenCentrality`. By calculating the extended connections of a node, `EigenCentrality` can identify nodes with influence over the whole network, not just those directly connected to it. \n",
    "\n",
    "We see the appearance of the same individual on closeness centrality and eigenvector centrality. "
   ]
  },
  {
   "cell_type": "code",
   "execution_count": 63,
   "metadata": {},
   "outputs": [
    {
     "data": {
      "text/html": [
       "<div>\n",
       "<style>\n",
       "    .dataframe thead tr:only-child th {\n",
       "        text-align: right;\n",
       "    }\n",
       "\n",
       "    .dataframe thead th {\n",
       "        text-align: left;\n",
       "    }\n",
       "\n",
       "    .dataframe tbody tr th {\n",
       "        vertical-align: top;\n",
       "    }\n",
       "</style>\n",
       "<table border=\"1\" class=\"dataframe\">\n",
       "  <thead>\n",
       "    <tr style=\"text-align: right;\">\n",
       "      <th></th>\n",
       "      <th>Nodes</th>\n",
       "      <th>Eigenvector Centrality</th>\n",
       "    </tr>\n",
       "  </thead>\n",
       "  <tbody>\n",
       "    <tr>\n",
       "      <th>4177</th>\n",
       "      <td>1559468120</td>\n",
       "      <td>0.707107</td>\n",
       "    </tr>\n",
       "    <tr>\n",
       "      <th>7326</th>\n",
       "      <td>1130133506254761984</td>\n",
       "      <td>0.089803</td>\n",
       "    </tr>\n",
       "    <tr>\n",
       "      <th>7220</th>\n",
       "      <td>1130174899266265088</td>\n",
       "      <td>0.089803</td>\n",
       "    </tr>\n",
       "    <tr>\n",
       "      <th>7199</th>\n",
       "      <td>1130187044213235712</td>\n",
       "      <td>0.089803</td>\n",
       "    </tr>\n",
       "    <tr>\n",
       "      <th>4931</th>\n",
       "      <td>1130355052671979520</td>\n",
       "      <td>0.089803</td>\n",
       "    </tr>\n",
       "  </tbody>\n",
       "</table>\n",
       "</div>"
      ],
      "text/plain": [
       "                    Nodes  Eigenvector Centrality\n",
       "4177           1559468120                0.707107\n",
       "7326  1130133506254761984                0.089803\n",
       "7220  1130174899266265088                0.089803\n",
       "7199  1130187044213235712                0.089803\n",
       "4931  1130355052671979520                0.089803"
      ]
     },
     "execution_count": 63,
     "metadata": {},
     "output_type": "execute_result"
    }
   ],
   "source": [
    "# eigenvector centrality\n",
    "eigen = nx.eigenvector_centrality_numpy(G)\n",
    "eigencentrality = pd.DataFrame([eigen.values()], columns = eigen.keys()).T.reset_index()\n",
    "eigencentrality.rename(columns ={0: 'Eigenvector Centrality','index': 'Nodes'}, inplace = True)\n",
    "eigencentrality.sort_values(['Eigenvector Centrality'], ascending = False, inplace = True)\n",
    "eigencentrality.head()"
   ]
  },
  {
   "cell_type": "markdown",
   "metadata": {},
   "source": [
    "We notice a familiar user id on both of the centrality measures above. After extracting his name from the data and a quick view of his twitter profile shows us he is very opinionated about politics. \n",
    "\n",
    "Below is also an excerpt from one his tweet. It demonstrates his negative attitude towards the outcome of the result and disdain towards Labor Party for losing the unlosable election."
   ]
  },
  {
   "cell_type": "code",
   "execution_count": 79,
   "metadata": {},
   "outputs": [
    {
     "name": "stdout",
     "output_type": "stream",
     "text": [
      "Robert Hazeltine had 162 retweets and 162 favorite tweets in two days after the election.\n"
     ]
    }
   ],
   "source": [
    "# person who spread negative sentiments\n",
    "influencer = after_election.loc[after_election[\"user_id\"] == 1559468120]\n",
    "print(influencer.iloc[:,6][30641], \"had\", influencer.retweet_count.count(), \"retweets and\",\n",
    "     influencer.favorite_count.count(), \"favorite tweets in two days after the election.\")"
   ]
  },
  {
   "cell_type": "code",
   "execution_count": 80,
   "metadata": {},
   "outputs": [
    {
     "name": "stdout",
     "output_type": "stream",
     "text": [
      "What should Labor being doing now if they were a football team?  The Bradbury strategy didn't work so what wil? #auspol\n"
     ]
    }
   ],
   "source": [
    "print(influencer.iloc[:,2][32570])"
   ]
  },
  {
   "cell_type": "markdown",
   "metadata": {},
   "source": [
    "#### Conclusion\n",
    "For our final project, we wanted to look at the opinions surrounding the 2019 Australian Election on Twitter, one of the largest public discussion forum of our time. At first, the sentiment analysis did not tell us much about the overall opinion about the election. The election was a surprise and the overall sentiment was positive. It did not make sense therefore we dived deeper to find the changes in opinion after the election.   \n",
    "\n",
    "We found that people were disinterested at first but after the surprise victory, a lot of users voiced their negative opinion on twitter about the possibility of a bleak future.   \n",
    "\n",
    "We also found through our network analysis, one individual who voiced his negative opinion via several tweets about the surprising outcome and was a central figure in the wider network and influenced it the most. \n",
    "\n",
    "After the election, The new prime minister Scott Morrison stated \"the quiet Australians ... have won a great victory\". The Australian Financial Review used data from the Australian Election Study to define Quiet Australians as being \"increasingly disaffected with the political system, and that Education surpassed income as the demographic characteristic most correlated with a swing to either major party\". [Source](https://www.afr.com/news/politics/national/quiet-australians-are-disaffected-and-divided-20190523-p51qb4)\n",
    "\n",
    "We believe our findings through the study of this dataset correlates with the statement made by The Australian Financial Review. "
   ]
  }
 ],
 "metadata": {
  "kernelspec": {
   "display_name": "Python 3",
   "language": "python",
   "name": "python3"
  },
  "language_info": {
   "codemirror_mode": {
    "name": "ipython",
    "version": 3
   },
   "file_extension": ".py",
   "mimetype": "text/x-python",
   "name": "python",
   "nbconvert_exporter": "python",
   "pygments_lexer": "ipython3",
   "version": "3.6.3"
  }
 },
 "nbformat": 4,
 "nbformat_minor": 2
}